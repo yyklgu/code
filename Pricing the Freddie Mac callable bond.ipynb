{
 "cells": [
  {
   "cell_type": "markdown",
   "metadata": {},
   "source": [
    "%% Packages"
   ]
  },
  {
   "cell_type": "code",
   "execution_count": 1,
   "metadata": {},
   "outputs": [],
   "source": [
    "import math\n",
    "import pandas as pd\n",
    "import matplotlib.pyplot as plt\n",
    "import numpy as np\n",
    "from numpy.linalg import inv\n",
    "from numpy import arange, exp, sqrt, log, mean, std, nonzero, isnan, array, zeros, ones, amax, amin, maximum, minimum\n",
    "from numpy import concatenate, arange, interp, diff, cov, var, diag, eye, cumsum, tile, transpose, nan, hstack, vstack\n",
    "from numpy import setdiff1d\n",
    "from scipy.interpolate import interp1d, PchipInterpolator\n",
    "from scipy.optimize import fmin\n",
    "from scipy.stats import norm\n",
    "from numpy.random import normal\n",
    "from NLLS_Func import NLLS, NLLS_Min\n",
    "from HoLee_SimpleBDT_Tree import fmin_HoLee_SimpleBDT_Tree,HoLee_SimpleBDT_Tree"
   ]
  },
  {
   "cell_type": "code",
   "execution_count": 3,
   "metadata": {},
   "outputs": [
    {
     "name": "stdout",
     "output_type": "stream",
     "text": [
      "==================================================================\n",
      "INTEREST RATE TREES  & VALUATION\n",
      "==================================================================\n"
     ]
    }
   ],
   "source": [
    "print('==================================================================')\n",
    "print('INTEREST RATE TREES  & VALUATION')\n",
    "print('==================================================================')"
   ]
  },
  {
   "cell_type": "markdown",
   "metadata": {},
   "source": [
    "% load data"
   ]
  },
  {
   "cell_type": "code",
   "execution_count": 4,
   "metadata": {},
   "outputs": [],
   "source": [
    "Data     = array(pd.read_excel('HW6_Data_Bonds.xlsx',sheet_name='Sheet1',skiprows=4,usecols=arange(9)))\n",
    "Mat      = array(pd.read_excel('HW6_Data_Bonds.xlsx',sheet_name='Sheet1',skiprows=4,usecols=arange(10,70)))    # Maturity Matrix (N x T) where N=number of bonds, T=max number of maturities.\n",
    "CashFlow = array(pd.read_excel('HW6_Data_Bonds.xlsx',sheet_name='Sheet1',skiprows=4,usecols=arange(72,132)))   # % This is the cash flow matrix (N x T). Cash flow of each bond corresponding to each maturity."
   ]
  },
  {
   "cell_type": "markdown",
   "metadata": {},
   "source": [
    "assign names to some of the data"
   ]
  },
  {
   "cell_type": "code",
   "execution_count": 5,
   "metadata": {},
   "outputs": [],
   "source": [
    "Bid        = Data[:,5]\n",
    "Ask        = Data[:,6]\n",
    "CleanPrice = (Bid+Ask)/2\n",
    "Price      = CleanPrice + Data[:,8]     # add accrued interest to the clean prices."
   ]
  },
  {
   "cell_type": "markdown",
   "metadata": {},
   "source": [
    "% Use Nelson Siegel Model."
   ]
  },
  {
   "cell_type": "code",
   "execution_count": 6,
   "metadata": {},
   "outputs": [],
   "source": [
    "vec0 = array([5.3664,-0.1329,-1.2687,132.0669])/100    # use solution as starting value."
   ]
  },
  {
   "cell_type": "code",
   "execution_count": 7,
   "metadata": {},
   "outputs": [
    {
     "name": "stdout",
     "output_type": "stream",
     "text": [
      "Optimization terminated successfully.\n",
      "         Current function value: 7.826728\n",
      "         Iterations: 58\n",
      "         Function evaluations: 105\n"
     ]
    }
   ],
   "source": [
    "vec  = fmin(func=NLLS_Min,x0=vec0,args=(Price,Mat,CashFlow))  # minimization algorithm. The 'NLLS' calls the matlab file with the minimization.\n",
    "                                                              # vec0 is starting value; Price, Mat, CashFlow are passed to ENLLS.m to compute the minimizing function.\n",
    "# translate solution back in \"formulas\"\n",
    "th0 = vec[0]; th1 = vec[1]; th2 = vec[2]; la = vec[3]"
   ]
  },
  {
   "cell_type": "code",
   "execution_count": 8,
   "metadata": {},
   "outputs": [],
   "source": [
    "J, PPhat = NLLS(vec, Price, Mat, CashFlow)"
   ]
  },
  {
   "cell_type": "code",
   "execution_count": 9,
   "metadata": {},
   "outputs": [
    {
     "data": {
      "text/plain": [
       "Text(0, 0.5, 'Price')"
      ]
     },
     "execution_count": 9,
     "metadata": {},
     "output_type": "execute_result"
    },
    {
     "data": {
      "image/png": "[encoded data removed]",
      "text/plain": [
       "<Figure size 432x288 with 1 Axes>"
      ]
     },
     "metadata": {
      "needs_background": "light"
     },
     "output_type": "display_data"
    }
   ],
   "source": [
    "plt.figure(1)\n",
    "plt.plot(Data[:,7],PPhat,Data[:,7],Price,'*')\n",
    "plt.legend(('Fitted','Data'))\n",
    "plt.xlabel('Maturity')\n",
    "plt.ylabel('Price')"
   ]
  },
  {
   "cell_type": "code",
   "execution_count": 10,
   "metadata": {},
   "outputs": [],
   "source": [
    "hs  = 1/2\n",
    "T   = arange(hs,30+hs,hs)\n",
    "Ycc = th0+(th1+th2)*(1-exp(-T/la))/(T/la)-th2*exp(-T/la)"
   ]
  },
  {
   "cell_type": "markdown",
   "metadata": {},
   "source": [
    "Discount"
   ]
  },
  {
   "cell_type": "code",
   "execution_count": 11,
   "metadata": {},
   "outputs": [],
   "source": [
    "ZZcc=exp(-Ycc*T)"
   ]
  },
  {
   "cell_type": "code",
   "execution_count": 12,
   "metadata": {},
   "outputs": [
    {
     "data": {
      "text/plain": [
       "array([0.97497633, 0.95143434, 0.92863217, 0.90622323, 0.88407369,\n",
       "       0.86215811, 0.84050078, 0.81914399, 0.79813186, 0.77750291,\n",
       "       0.75728742, 0.73750715, 0.71817621, 0.69930237, 0.68088836,\n",
       "       0.66293301, 0.64543228, 0.62838005, 0.61176871, 0.59558966,\n",
       "       0.57983366, 0.56449108, 0.54955208, 0.53500675, 0.52084524,\n",
       "       0.50705776, 0.49363468, 0.48056655, 0.4678441 , 0.45545828,\n",
       "       0.44340023, 0.43166132, 0.42023313, 0.40910746, 0.39827631,\n",
       "       0.38773189, 0.37746663, 0.36747313, 0.35774421, 0.34827285,\n",
       "       0.33905225, 0.33007576, 0.32133693, 0.31282946, 0.30454722,\n",
       "       0.29648426, 0.28863477, 0.28099309, 0.27355373, 0.26631133,\n",
       "       0.25926067, 0.25239668, 0.24571442, 0.23920907, 0.23287595,\n",
       "       0.2267105 , 0.22070829, 0.21486498, 0.20917638, 0.20363838])"
      ]
     },
     "execution_count": 12,
     "metadata": {},
     "output_type": "execute_result"
    }
   ],
   "source": [
    "ZZcc"
   ]
  },
  {
   "cell_type": "markdown",
   "metadata": {},
   "source": [
    "Fwd rates"
   ]
  },
  {
   "cell_type": "code",
   "execution_count": 13,
   "metadata": {},
   "outputs": [],
   "source": [
    "FWD = -log(ZZcc[1:]/ZZcc[0:-1])/hs\n",
    "FWD = hstack((Ycc[0],FWD))"
   ]
  },
  {
   "cell_type": "code",
   "execution_count": 14,
   "metadata": {},
   "outputs": [
    {
     "data": {
      "text/plain": [
       "Text(0, 0.5, 'Z')"
      ]
     },
     "execution_count": 14,
     "metadata": {},
     "output_type": "execute_result"
    },
    {
     "data": {
      "image/png": "[encoded data removed]",
      "text/plain": [
       "<Figure size 432x288 with 1 Axes>"
      ]
     },
     "metadata": {
      "needs_background": "light"
     },
     "output_type": "display_data"
    }
   ],
   "source": [
    "plt.figure(2)\n",
    "plt.plot(T,ZZcc)\n",
    "plt.xlabel('Maturity')\n",
    "plt.ylabel('Z')"
   ]
  },
  {
   "cell_type": "code",
   "execution_count": 15,
   "metadata": {},
   "outputs": [
    {
     "data": {
      "text/plain": [
       "<matplotlib.legend.Legend at 0x7f938fdf51f0>"
      ]
     },
     "execution_count": 15,
     "metadata": {},
     "output_type": "execute_result"
    },
    {
     "data": {
      "image/png": "[encoded data removed]",
      "text/plain": [
       "<Figure size 432x288 with 1 Axes>"
      ]
     },
     "metadata": {
      "needs_background": "light"
     },
     "output_type": "display_data"
    }
   ],
   "source": [
    "plt.figure(3)\n",
    "plt.plot(T,Ycc,T,FWD,'--')\n",
    "plt.xlabel('Maturity')\n",
    "plt.ylabel('Yield')\n",
    "plt.legend(('yield','forward','location','northwest'))"
   ]
  },
  {
   "cell_type": "markdown",
   "metadata": {},
   "source": [
    "% BUILDING A RECOMBINING BINOMIAL TREE"
   ]
  },
  {
   "cell_type": "markdown",
   "metadata": {},
   "source": [
    "load time series of six month rates"
   ]
  },
  {
   "cell_type": "code",
   "execution_count": 16,
   "metadata": {},
   "outputs": [],
   "source": [
    "data = array(pd.read_csv('HW6_FRB_H15.csv',skiprows=5,usecols=[1]))[:,0]\n",
    "n = data.shape[0]\n",
    "DataY6 = data/100  # back in decimals\n",
    "P6     = (1-180/360*DataY6)\n",
    "rr6    =  -1/0.5*log(P6)"
   ]
  },
  {
   "cell_type": "code",
   "execution_count": 19,
   "metadata": {},
   "outputs": [],
   "source": [
    "r0 = Ycc[0]"
   ]
  },
  {
   "cell_type": "markdown",
   "metadata": {},
   "source": [
    "Build tree, semi-annual increments"
   ]
  },
  {
   "cell_type": "code",
   "execution_count": 20,
   "metadata": {},
   "outputs": [],
   "source": [
    "BDT_Flag=0 # = 0: HoLee; =0\n",
    "if BDT_Flag==0:\n",
    "    #sigma = 0.016\n",
    "    sigma = np.std(np.diff(rr6),ddof=1) * np.sqrt(12)   # note: units (month) must be annualized\n",
    "else:\n",
    "    #r_t_mean = np.mean(rr6)\n",
    "    #sigma_r = np.std(np.diff(rr6),ddof=1)\n",
    "    #sigma_z = sigma_r / r_t_mean\n",
    "    #sigma = sigma_z * np.sqrt(12)    # note: units (month) must be annualized\n",
    "    zz6 = np.log(rr6)\n",
    "    sigma = np.std(np.diff(zz6),ddof=1) * np.sqrt(12) "
   ]
  },
  {
   "cell_type": "code",
   "execution_count": 22,
   "metadata": {},
   "outputs": [],
   "source": [
    "ImTree = zeros((int(30/hs),int(30/hs)))\n",
    "ZZTree = zeros((int(30/hs+1),int(30/hs+1),int(30/hs)))"
   ]
  },
  {
   "cell_type": "code",
   "execution_count": 23,
   "metadata": {},
   "outputs": [],
   "source": [
    "ImTree[0,0]     = r0              # root of the tree\n",
    "ZZTree[0,0,0]   = exp(-r0*hs)     # first zero coupon bond (maturity i=2)\n",
    "ZZTree[0:1,1,0] = 1"
   ]
  },
  {
   "cell_type": "code",
   "execution_count": 24,
   "metadata": {},
   "outputs": [],
   "source": [
    "ImTree_1 = ImTree"
   ]
  },
  {
   "cell_type": "code",
   "execution_count": 25,
   "metadata": {},
   "outputs": [
    {
     "name": "stdout",
     "output_type": "stream",
     "text": [
      "Optimization terminated successfully.\n",
      "         Current function value: 0.000000\n",
      "         Iterations: 9\n",
      "         Function evaluations: 18\n",
      "Optimization terminated successfully.\n",
      "         Current function value: 0.000000\n",
      "         Iterations: 5\n",
      "         Function evaluations: 10\n",
      "Optimization terminated successfully.\n",
      "         Current function value: 0.000000\n",
      "         Iterations: 5\n",
      "         Function evaluations: 10\n",
      "Optimization terminated successfully.\n",
      "         Current function value: 0.000000\n",
      "         Iterations: 7\n",
      "         Function evaluations: 14\n",
      "Optimization terminated successfully.\n",
      "         Current function value: 0.000000\n",
      "         Iterations: 7\n",
      "         Function evaluations: 14\n",
      "Optimization terminated successfully.\n",
      "         Current function value: 0.000000\n",
      "         Iterations: 7\n",
      "         Function evaluations: 14\n",
      "Optimization terminated successfully.\n",
      "         Current function value: 0.000000\n",
      "         Iterations: 7\n",
      "         Function evaluations: 14\n",
      "Optimization terminated successfully.\n",
      "         Current function value: 0.000000\n",
      "         Iterations: 7\n",
      "         Function evaluations: 14\n",
      "Optimization terminated successfully.\n",
      "         Current function value: 0.000000\n",
      "         Iterations: 7\n",
      "         Function evaluations: 14\n",
      "Optimization terminated successfully.\n",
      "         Current function value: 0.000000\n",
      "         Iterations: 7\n",
      "         Function evaluations: 14\n",
      "Optimization terminated successfully.\n",
      "         Current function value: 0.000000\n",
      "         Iterations: 7\n",
      "         Function evaluations: 14\n",
      "Optimization terminated successfully.\n",
      "         Current function value: 0.000000\n",
      "         Iterations: 7\n",
      "         Function evaluations: 14\n",
      "Optimization terminated successfully.\n",
      "         Current function value: 0.000000\n",
      "         Iterations: 7\n",
      "         Function evaluations: 14\n",
      "Optimization terminated successfully.\n",
      "         Current function value: 0.000000\n",
      "         Iterations: 7\n",
      "         Function evaluations: 14\n",
      "Optimization terminated successfully.\n",
      "         Current function value: 0.000000\n",
      "         Iterations: 7\n",
      "         Function evaluations: 14\n",
      "Optimization terminated successfully.\n",
      "         Current function value: 0.000000\n",
      "         Iterations: 7\n",
      "         Function evaluations: 14\n",
      "Optimization terminated successfully.\n",
      "         Current function value: 0.000000\n",
      "         Iterations: 7\n",
      "         Function evaluations: 14\n",
      "Optimization terminated successfully.\n",
      "         Current function value: 0.000000\n",
      "         Iterations: 8\n",
      "         Function evaluations: 16\n",
      "Optimization terminated successfully.\n",
      "         Current function value: 0.000000\n",
      "         Iterations: 8\n",
      "         Function evaluations: 16\n",
      "Optimization terminated successfully.\n",
      "         Current function value: 0.000000\n",
      "         Iterations: 8\n",
      "         Function evaluations: 16\n",
      "Optimization terminated successfully.\n",
      "         Current function value: 0.000000\n",
      "         Iterations: 8\n",
      "         Function evaluations: 16\n",
      "Optimization terminated successfully.\n",
      "         Current function value: 0.000000\n",
      "         Iterations: 8\n",
      "         Function evaluations: 16\n",
      "Optimization terminated successfully.\n",
      "         Current function value: 0.000000\n",
      "         Iterations: 8\n",
      "         Function evaluations: 16\n",
      "Optimization terminated successfully.\n",
      "         Current function value: 0.000000\n",
      "         Iterations: 8\n",
      "         Function evaluations: 16\n",
      "Optimization terminated successfully.\n",
      "         Current function value: 0.000000\n",
      "         Iterations: 8\n",
      "         Function evaluations: 16\n",
      "Optimization terminated successfully.\n",
      "         Current function value: 0.000000\n",
      "         Iterations: 8\n",
      "         Function evaluations: 16\n",
      "Optimization terminated successfully.\n",
      "         Current function value: 0.000000\n",
      "         Iterations: 9\n",
      "         Function evaluations: 18\n",
      "Optimization terminated successfully.\n",
      "         Current function value: 0.000000\n",
      "         Iterations: 9\n",
      "         Function evaluations: 18\n",
      "Optimization terminated successfully.\n",
      "         Current function value: 0.000000\n",
      "         Iterations: 9\n",
      "         Function evaluations: 18\n",
      "Optimization terminated successfully.\n",
      "         Current function value: 0.000000\n",
      "         Iterations: 9\n",
      "         Function evaluations: 18\n",
      "Optimization terminated successfully.\n",
      "         Current function value: 0.000000\n",
      "         Iterations: 9\n",
      "         Function evaluations: 18\n",
      "Optimization terminated successfully.\n",
      "         Current function value: 0.000000\n",
      "         Iterations: 9\n",
      "         Function evaluations: 18\n",
      "Optimization terminated successfully.\n",
      "         Current function value: 0.000000\n",
      "         Iterations: 9\n",
      "         Function evaluations: 18\n",
      "Optimization terminated successfully.\n",
      "         Current function value: 0.000000\n",
      "         Iterations: 9\n",
      "         Function evaluations: 18\n",
      "Optimization terminated successfully.\n",
      "         Current function value: 0.000000\n",
      "         Iterations: 9\n",
      "         Function evaluations: 18\n",
      "Optimization terminated successfully.\n",
      "         Current function value: 0.000000\n",
      "         Iterations: 9\n",
      "         Function evaluations: 18\n",
      "Optimization terminated successfully.\n",
      "         Current function value: 0.000000\n",
      "         Iterations: 9\n",
      "         Function evaluations: 18\n",
      "Optimization terminated successfully.\n",
      "         Current function value: 0.000000\n",
      "         Iterations: 9\n",
      "         Function evaluations: 18\n",
      "Optimization terminated successfully.\n",
      "         Current function value: 0.000000\n",
      "         Iterations: 10\n",
      "         Function evaluations: 20\n",
      "Optimization terminated successfully.\n",
      "         Current function value: 0.000000\n",
      "         Iterations: 10\n",
      "         Function evaluations: 20\n",
      "Optimization terminated successfully.\n",
      "         Current function value: 0.000000\n",
      "         Iterations: 10\n",
      "         Function evaluations: 20\n",
      "Optimization terminated successfully.\n",
      "         Current function value: 0.000000\n",
      "         Iterations: 10\n",
      "         Function evaluations: 20\n",
      "Optimization terminated successfully.\n",
      "         Current function value: 0.000000\n",
      "         Iterations: 10\n",
      "         Function evaluations: 20\n",
      "Optimization terminated successfully.\n",
      "         Current function value: 0.000000\n",
      "         Iterations: 10\n",
      "         Function evaluations: 20\n",
      "Optimization terminated successfully.\n",
      "         Current function value: 0.000000\n",
      "         Iterations: 10\n",
      "         Function evaluations: 20\n",
      "Optimization terminated successfully.\n",
      "         Current function value: 0.000000\n",
      "         Iterations: 10\n",
      "         Function evaluations: 20\n",
      "Optimization terminated successfully.\n",
      "         Current function value: 0.000000\n",
      "         Iterations: 10\n",
      "         Function evaluations: 20\n",
      "Optimization terminated successfully.\n",
      "         Current function value: 0.000000\n",
      "         Iterations: 10\n",
      "         Function evaluations: 20\n",
      "Optimization terminated successfully.\n",
      "         Current function value: 0.000000\n",
      "         Iterations: 10\n",
      "         Function evaluations: 20\n",
      "Optimization terminated successfully.\n",
      "         Current function value: 0.000000\n",
      "         Iterations: 10\n",
      "         Function evaluations: 20\n",
      "Optimization terminated successfully.\n",
      "         Current function value: 0.000000\n",
      "         Iterations: 10\n",
      "         Function evaluations: 20\n",
      "Optimization terminated successfully.\n",
      "         Current function value: 0.000000\n",
      "         Iterations: 10\n",
      "         Function evaluations: 20\n",
      "Optimization terminated successfully.\n",
      "         Current function value: 0.000000\n",
      "         Iterations: 10\n",
      "         Function evaluations: 20\n",
      "Optimization terminated successfully.\n",
      "         Current function value: 0.000000\n",
      "         Iterations: 10\n",
      "         Function evaluations: 20\n",
      "Optimization terminated successfully.\n",
      "         Current function value: 0.000000\n",
      "         Iterations: 11\n",
      "         Function evaluations: 22\n",
      "Optimization terminated successfully.\n",
      "         Current function value: 0.000000\n",
      "         Iterations: 11\n",
      "         Function evaluations: 22\n",
      "Optimization terminated successfully.\n",
      "         Current function value: 0.000000\n",
      "         Iterations: 11\n",
      "         Function evaluations: 22\n",
      "Optimization terminated successfully.\n",
      "         Current function value: 0.000000\n",
      "         Iterations: 11\n",
      "         Function evaluations: 22\n",
      "Optimization terminated successfully.\n",
      "         Current function value: 0.000000\n",
      "         Iterations: 11\n",
      "         Function evaluations: 22\n"
     ]
    }
   ],
   "source": [
    "FFF   = zeros(int(30/hs)-1)\n",
    "theta = zeros(int(30/hs)-1)\n",
    "for i in arange(1,int(30/hs)):\n",
    "    theta_i    = fmin(func=fmin_HoLee_SimpleBDT_Tree,x0=0,args=(ZZcc[i],ImTree_1,i,sigma,hs,BDT_Flag))\n",
    "    theta[i-1] = theta_i\n",
    "    FF,ImTree,ZZTreei = HoLee_SimpleBDT_Tree(theta_i,ZZcc[i],ImTree_1,i,sigma,hs,BDT_Flag)\n",
    "    FFF[i-1] = FF\n",
    "    ImTree_1 = ImTree\n",
    "    ZZTree[0:i+2,0:i+2,i] = ZZTreei"
   ]
  },
  {
   "cell_type": "code",
   "execution_count": 26,
   "metadata": {},
   "outputs": [],
   "source": [
    "yyTree = -log(ZZTree[0,0,:])/T"
   ]
  },
  {
   "cell_type": "code",
   "execution_count": 27,
   "metadata": {},
   "outputs": [
    {
     "data": {
      "text/plain": [
       "<matplotlib.legend.Legend at 0x7f939012c9d0>"
      ]
     },
     "execution_count": 27,
     "metadata": {},
     "output_type": "execute_result"
    },
    {
     "data": {
      "image/png": "[encoded data removed]",
      "text/plain": [
       "<Figure size 432x288 with 1 Axes>"
      ]
     },
     "metadata": {
      "needs_background": "light"
     },
     "output_type": "display_data"
    }
   ],
   "source": [
    "plt.figure(4)\n",
    "plt.plot(T,yyTree,T,Ycc,'--',linewidth=2)\n",
    "plt.title('Yields: Data versus Tree')\n",
    "plt.xlabel('Maturity')\n",
    "plt.ylabel('yield')\n",
    "plt.legend(('Tree','Data'),loc='best')"
   ]
  },
  {
   "cell_type": "code",
   "execution_count": 28,
   "metadata": {},
   "outputs": [
    {
     "data": {
      "image/png": "[encoded data removed]",
      "text/plain": [
       "<Figure size 432x288 with 1 Axes>"
      ]
     },
     "metadata": {
      "needs_background": "light"
     },
     "output_type": "display_data"
    }
   ],
   "source": [
    "if BDT_Flag==0: # this only works if we are in the original HoLee model\n",
    "    plt.figure(5)\n",
    "    plt.plot(T[:-1],theta,T[:-1],(FWD[1:]-FWD[:-1])/hs+sigma**2*T[:-1],'--',linewidth=2)\n",
    "    plt.title('Yields: Data versus Tree')\n",
    "    plt.xlabel('Maturity')\n",
    "    plt.ylabel('yield')\n",
    "    plt.legend(('theta','d fwd_dt + sigma^2 T'),loc='best')"
   ]
  },
  {
   "cell_type": "markdown",
   "metadata": {},
   "source": [
    "% Price of the Freddie Mac callable bond on the tree"
   ]
  },
  {
   "cell_type": "code",
   "execution_count": 30,
   "metadata": {},
   "outputs": [],
   "source": [
    "coupon = 3\n",
    "TBond  = 20\n",
    "FCT    = 4                    # first call time\n",
    "iT     = int(TBond/hs+1)      # step at maturity: always 1 more step than T/hs for maturity\n",
    "iFCT   = int(FCT/hs+1)        # step at first call time"
   ]
  },
  {
   "cell_type": "code",
   "execution_count": 31,
   "metadata": {},
   "outputs": [],
   "source": [
    "pi     = 0.5             # Risk Neutral Probability of up movement"
   ]
  },
  {
   "cell_type": "code",
   "execution_count": 32,
   "metadata": {},
   "outputs": [],
   "source": [
    "PPTree_NC = zeros((iT,iT))    # initialize the matrix for the non-callable coupon bond with maturity i.\n",
    "Call      = zeros((iT,iT))    # initialize the matrix for American call coupon bond with maturity i."
   ]
  },
  {
   "cell_type": "markdown",
   "metadata": {},
   "source": [
    "final payoff of non-callable bond"
   ]
  },
  {
   "cell_type": "code",
   "execution_count": 33,
   "metadata": {},
   "outputs": [],
   "source": [
    "PPTree_NC[0:iT,iT-1] = 100 + coupon \n",
    "Call[0:iT, iT-1] = 0 # final price is equal to 100"
   ]
  },
  {
   "cell_type": "markdown",
   "metadata": {},
   "source": [
    "backward algorithm"
   ]
  },
  {
   "cell_type": "code",
   "execution_count": 34,
   "metadata": {},
   "outputs": [],
   "source": [
    "for j in range(iT-1, 0, -1):\n",
    "    # Discount factor using rates at time j-1 \n",
    "    discount = np.exp(-ImTree[0:j, j-1] * hs)\n",
    "    \n",
    "    # Expected value from up and down moves\n",
    "    cont_NC = pi * PPTree_NC[0:j, j] + (1 - pi) * PPTree_NC[1:j+1, j]\n",
    "    cont_Call = pi * Call[0:j, j] + (1 - pi) * Call[1:j+1, j]\n",
    "    \n",
    "    # Discount and add coupon\n",
    "    PPTree_NC[0:j, j-1] = cont_NC * discount + coupon\n",
    "    call_val = cont_Call * discount \n",
    "\n",
    "    # Apply call logic only after First Call Date\n",
    "    if j >= iFCT:\n",
    "        # Issuer can redeem at par (100), so call value is the gain from calling\n",
    "        Call[0:j, j-1] = np.maximum(PPTree_NC[0:j, j-1] - 100 - coupon, call_val)\n",
    "    else:\n",
    "        # Before call date, option has no value beyond continuation\n",
    "        Call[0:j, j-1] = call_val\n",
    "        \n",
    "PPTree_NC[0,0] = PPTree_NC[0,0] - coupon"
   ]
  },
  {
   "cell_type": "code",
   "execution_count": 37,
   "metadata": {
    "scrolled": true
   },
   "outputs": [
    {
     "name": "stdout",
     "output_type": "stream",
     "text": [
      "Price Freddie Mac Callable Bond\n",
      "P_NC, Call, P_Call\n",
      "[108.5545  17.0245  91.53  ]\n"
     ]
    }
   ],
   "source": [
    "print('Price Freddie Mac Callable Bond')\n",
    "print('P_NC, Call, P_Call')\n",
    "print(np.round(array([PPTree_NC[0,0],Call[0,0],PPTree_NC[0,0]-Call[0,0]]),4))"
   ]
  },
  {
   "cell_type": "code",
   "execution_count": 38,
   "metadata": {},
   "outputs": [
    {
     "name": "stdout",
     "output_type": "stream",
     "text": [
      "📘 First 10x10 of Non-Callable Bond Tree:\n",
      "[[108.55  96.8   84.88  75.19  67.25  60.68  55.2   50.59  46.67  43.31]\n",
      " [  0.   125.88 108.45  94.51  83.26  74.08  66.53  60.26  55.01  50.56]\n",
      " [  0.     0.   141.97 121.59 105.38  92.36  81.79  73.13  65.96  59.98]\n",
      " [  0.     0.     0.   159.99 136.33 117.59 102.58  90.45  80.53  72.35]\n",
      " [  0.     0.     0.     0.   180.06 152.76 131.19 113.97 100.08  88.76]\n",
      " [  0.     0.     0.     0.     0.   202.23 170.9  146.21 126.54 110.71]\n",
      " [  0.     0.     0.     0.     0.     0.   226.46 190.75 162.64 140.28]\n",
      " [  0.     0.     0.     0.     0.     0.     0.   252.68 212.21 180.41]\n",
      " [  0.     0.     0.     0.     0.     0.     0.     0.   280.7  235.16]\n",
      " [  0.     0.     0.     0.     0.     0.     0.     0.     0.   310.25]]\n",
      "\n",
      "🔔 First 10x10 of Call Option Tree:\n",
      "[[ 17.02  10.08   5.63   2.97   1.5    0.72   0.33   0.14   0.06   0.02]\n",
      " [  0.    24.85  15.14   8.69   4.69   2.42   1.19   0.56   0.25   0.1 ]\n",
      " [  0.     0.    35.49  22.34  13.22   7.32   3.85   1.94   0.93   0.43]\n",
      " [  0.     0.     0.    49.57  32.32  19.8   11.25   6.05   3.12   1.54]\n",
      " [  0.     0.     0.     0.    67.57  45.74  29.14  17.03   9.38   4.95]\n",
      " [  0.     0.     0.     0.     0.    89.74  63.12  42.11  25.4   14.32]\n",
      " [  0.     0.     0.     0.     0.     0.   115.86  84.57  59.64  37.28]\n",
      " [  0.     0.     0.     0.     0.     0.     0.   145.33 109.21  77.41]\n",
      " [  0.     0.     0.     0.     0.     0.     0.     0.   177.7  132.16]\n",
      " [  0.     0.     0.     0.     0.     0.     0.     0.     0.   207.25]]\n",
      "\n",
      "💰 First 10x10 of Callable Bond Tree:\n",
      "[[ 91.53  86.73  79.26  72.22  65.76  59.96  54.87  50.44  46.61  43.29]\n",
      " [  0.   101.03  93.31  85.82  78.56  71.67  65.34  59.7   54.76  50.46]\n",
      " [  0.     0.   106.48  99.25  92.16  85.04  77.94  71.19  65.03  59.55]\n",
      " [  0.     0.     0.   110.43 104.01  97.79  91.34  84.39  77.41  70.82]\n",
      " [  0.     0.     0.     0.   112.49 107.02 102.05  96.94  90.7   83.81]\n",
      " [  0.     0.     0.     0.     0.   112.49 107.78 104.1  101.14  96.38]\n",
      " [  0.     0.     0.     0.     0.     0.   110.61 106.18 103.   103.  ]\n",
      " [  0.     0.     0.     0.     0.     0.     0.   107.35 103.   103.  ]\n",
      " [  0.     0.     0.     0.     0.     0.     0.     0.   103.   103.  ]\n",
      " [  0.     0.     0.     0.     0.     0.     0.     0.     0.   103.  ]]\n"
     ]
    }
   ],
   "source": [
    "import numpy as np\n",
    "\n",
    "# Set print options to 2 decimal places\n",
    "np.set_printoptions(precision=2, suppress=True)\n",
    "\n",
    "print(\"📘 First 10x10 of Non-Callable Bond Tree:\")\n",
    "print(PPTree_NC[:10, :10])\n",
    "\n",
    "print(\"\\n🔔 First 10x10 of Call Option Tree:\")\n",
    "print(Call[:10, :10])\n",
    "\n",
    "print(\"\\n💰 First 10x10 of Callable Bond Tree:\")\n",
    "PPTree_C = PPTree_NC - Call\n",
    "print(PPTree_C[:10, :10])"
   ]
  },
  {
   "cell_type": "code",
   "execution_count": 39,
   "metadata": {},
   "outputs": [
    {
     "data": {
      "image/png": "[encoded data removed]",
      "text/plain": [
       "<Figure size 576x432 with 4 Axes>"
      ]
     },
     "metadata": {
      "needs_background": "light"
     },
     "output_type": "display_data"
    }
   ],
   "source": [
    "plt.figure(6,figsize=(8,6))\n",
    "for j in range(1,5):\n",
    "    plt.subplot(2,2,j)\n",
    "    plt.plot(ImTree[0:iFCT-(j-1),iFCT-(j-1)],PPTree_NC[0:iFCT-(j-1),iFCT-(j-1)],'--',ImTree[0:iFCT-(j-1),iFCT-(j-1)],PPTree_C[0:iFCT-(j-1),iFCT-(j-1)],linewidth=2)\n",
    "    #plt.xlabel('Interest Rate')\n",
    "    plt.ylabel('Bond Prices')\n",
    "    plt.legend(('Non-Callable','Callable'),loc='best')\n",
    "    if j==1:\n",
    "        titlestr = 'FCD'\n",
    "    else:\n",
    "        titlestr = str(j-1) + ' periods before FCD'\n",
    "    plt.title(titlestr)"
   ]
  },
  {
   "cell_type": "markdown",
   "metadata": {},
   "source": [
    "% Duration and Convexity"
   ]
  },
  {
   "cell_type": "markdown",
   "metadata": {},
   "source": [
    "Duration - Non-Callable"
   ]
  },
  {
   "cell_type": "code",
   "execution_count": 40,
   "metadata": {},
   "outputs": [
    {
     "data": {
      "text/plain": [
       "11.85976567413916"
      ]
     },
     "execution_count": 40,
     "metadata": {},
     "output_type": "execute_result"
    }
   ],
   "source": [
    "DNC =  (PPTree_NC[1, 1]-PPTree_NC[0, 1])/ (PPTree_NC[0, 0]*(ImTree[0, 1]- ImTree[1, 1]))\n",
    "DNC"
   ]
  },
  {
   "cell_type": "markdown",
   "metadata": {},
   "source": [
    "Duration - Callable"
   ]
  },
  {
   "cell_type": "code",
   "execution_count": 41,
   "metadata": {},
   "outputs": [
    {
     "data": {
      "text/plain": [
       "6.921395403945519"
      ]
     },
     "execution_count": 41,
     "metadata": {},
     "output_type": "execute_result"
    }
   ],
   "source": [
    "DCallable = (PPTree_C[1, 1]-PPTree_C[0, 1])/ (PPTree_C[0, 0]*(ImTree[0, 1]- ImTree[1, 1]))\n",
    "DCallable"
   ]
  },
  {
   "cell_type": "markdown",
   "metadata": {},
   "source": [
    "Convexity - Non-Callable"
   ]
  },
  {
   "cell_type": "code",
   "execution_count": 42,
   "metadata": {},
   "outputs": [
    {
     "data": {
      "text/plain": [
       "89.7968048389879"
      ]
     },
     "execution_count": 42,
     "metadata": {},
     "output_type": "execute_result"
    }
   ],
   "source": [
    "Delta_NC_1u = (PPTree_NC[0,2]-PPTree_NC[1,2])/(ImTree[0,2]-ImTree[1,2])\n",
    "Delta_NC_1d = (PPTree_NC[1,2]-PPTree_NC[2,2])/(ImTree[1,2]-ImTree[2,2])\n",
    "C_NC = (Delta_NC_1u - Delta_NC_1d) / (PPTree_NC[0,0] * (ImTree[0,2] - ImTree[2,2]))\n",
    "C_NC "
   ]
  },
  {
   "cell_type": "markdown",
   "metadata": {},
   "source": [
    "Convexity - Callable"
   ]
  },
  {
   "cell_type": "code",
   "execution_count": 43,
   "metadata": {},
   "outputs": [
    {
     "data": {
      "text/plain": [
       "-9.454981573499332"
      ]
     },
     "execution_count": 43,
     "metadata": {},
     "output_type": "execute_result"
    }
   ],
   "source": [
    "Delta_Call_1u = (PPTree_C[0,2]-PPTree_C[1,2])/(ImTree[0,2]-ImTree[1,2])\n",
    "Delta_Call_1d = (PPTree_C[1,2]-PPTree_C[2,2])/(ImTree[1,2]-ImTree[2,2])\n",
    "C_Callable    = (Delta_Call_1u - Delta_Call_1d)/(PPTree_C[0,0] * (ImTree[0,2] - ImTree[2,2]))\n",
    "C_Callable "
   ]
  }
 ],
 "metadata": {
  "kernelspec": {
   "display_name": "Python 3",
   "language": "python",
   "name": "python3"
  },
  "language_info": {
   "codemirror_mode": {
    "name": "ipython",
    "version": 3
   },
   "file_extension": ".py",
   "mimetype": "text/x-python",
   "name": "python",
   "nbconvert_exporter": "python",
   "pygments_lexer": "ipython3",
   "version": "3.8.8"
  }
 },
 "nbformat": 4,
 "nbformat_minor": 2
}
